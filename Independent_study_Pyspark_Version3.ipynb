{
 "cells": [
  {
   "cell_type": "markdown",
   "metadata": {},
   "source": [
    "*** VERSION 3 ***"
   ]
  },
  {
   "cell_type": "markdown",
   "metadata": {},
   "source": [
    "**** NOTES ****"
   ]
  },
  {
   "cell_type": "code",
   "execution_count": 1,
   "metadata": {
    "collapsed": true
   },
   "outputs": [],
   "source": [
    "import os, sys, stat\n",
    "from stat import *\n",
    "import re\n",
    "import pandas as pd\n",
    "from pyspark.sql import *\n",
    "from pyspark import SparkConf, SparkContext, SQLContext\n",
    "import unicodedata\n",
    "from pyspark.sql.functions import *\n",
    "from py4j.java_gateway import java_import, JavaGateway, GatewayClient"
   ]
  },
  {
   "cell_type": "code",
   "execution_count": 2,
   "metadata": {
    "collapsed": false
   },
   "outputs": [],
   "source": [
    "# Function to normalize the lines of a textfile. This function ensures that there are no unicode error\n",
    "def normalize(filename):\n",
    "    lines=[]\n",
    "    with open(filename, 'r') as f:\n",
    "        all_lines = f.readlines()\n",
    "        #print all_lines\n",
    "        for i in range(len(all_lines)):\n",
    "            l = all_lines[i].decode('utf-8').strip(' \\t\\n')\n",
    "            l.strip(',')\n",
    "            if len(l) == 0:\n",
    "                continue\n",
    "            lines.append(unicodedata.normalize(\"NFKD\", l).encode('ascii','ignore'))\n",
    "    \n",
    "    return lines"
   ]
  },
  {
   "cell_type": "code",
   "execution_count": 3,
   "metadata": {
    "collapsed": true
   },
   "outputs": [],
   "source": [
    "def normalize(line):\n",
    "    l = line.decode('utf-8')\n",
    "    l = unicodedata.normalize(\"NFKD\", l).encode('ascii','ignore')\n",
    "    \n",
    "    return l\n"
   ]
  },
  {
   "cell_type": "code",
   "execution_count": 4,
   "metadata": {
    "collapsed": false
   },
   "outputs": [],
   "source": [
    "def format_key(key) :\n",
    "    if key is None:\n",
    "        return 'UNKNOWN_KEY'\n",
    "    else:\n",
    "        key = re.sub('[^0-9a-zA-Z ]+','',key)\n",
    "        key = key.lower()\n",
    "        key = key.replace(' ','_')\n",
    "\n",
    "    return key\n"
   ]
  },
  {
   "cell_type": "code",
   "execution_count": 5,
   "metadata": {
    "collapsed": true
   },
   "outputs": [],
   "source": [
    "def parse(pathname, save_range=False):\n",
    "    d = dict()\n",
    "    with open(pathname, 'r') as f:\n",
    "        heading = None\n",
    "        section = ''\n",
    "        section_start = None\n",
    "        line = 0\n",
    "        l = \"\"\n",
    "        for l in f :\n",
    "            l = normalize(l)\n",
    "            l = l.strip(\" \\n\")\n",
    "            if len(l) == 0:\n",
    "                continue\n",
    "\n",
    "            if len(l.split(' ')) < 4:\n",
    "                # possible next heading\n",
    "                if len(section) > 0:\n",
    "                    if save_range :\n",
    "                        d[heading] = (section_start, line)\n",
    "                    else:\n",
    "                        heading = format_key(heading)\n",
    "                        d[heading] = section\n",
    "                    heading = None\n",
    "                    section = ''\n",
    "                    section_start = None\n",
    "\n",
    "                heading = l\n",
    "                continue\n",
    "\n",
    "            if section_start is None:\n",
    "                section_start = line\n",
    "\n",
    "            section += l\n",
    "            line += 1\n",
    "\n",
    "        # save last section as well\n",
    "        if heading is not None:\n",
    "            if len(section) > 0:\n",
    "                if save_range :\n",
    "                    d[heading] = (section_start, line)\n",
    "                else:\n",
    "                    heading = format_key(heading)\n",
    "                    d[heading] = section\n",
    "\n",
    "    return d"
   ]
  },
  {
   "cell_type": "code",
   "execution_count": 6,
   "metadata": {
    "collapsed": true
   },
   "outputs": [],
   "source": [
    "# Function that fetches pmid key from the fulltext_id file (contains list of all files that have VEGF) shared by Sean\n",
    "def mkf2id(full_text_file):\n",
    "    f2id=dict()\n",
    "    with open(full_text_file, 'r') as f:\n",
    "        for l in f:\n",
    "            tokens = l.strip(' \\t\\n').split(' ')\n",
    "            filename = tokens[-1].replace('.tar.gz', '.txt')\n",
    "            uniq_id = tokens[0].strip(' \\t')\n",
    "            f2id[filename] = uniq_id\n",
    "    return f2id"
   ]
  },
  {
   "cell_type": "code",
   "execution_count": 7,
   "metadata": {
    "collapsed": true
   },
   "outputs": [],
   "source": [
    "# Function that creates a dataframe with pmid_key and different subsections as columns. \n",
    "# Each row represents each txt file\n",
    "\n",
    "def mkdf(path, f2id):\n",
    "    items = os.listdir(path)\n",
    "    uniqueKeys = set()\n",
    "    docList = []\n",
    "    \n",
    "    for item in items:\n",
    "        pathname = os.path.join(path, item)\n",
    "        mode = os.stat(pathname).st_mode\n",
    "        if not stat.S_ISREG(mode):\n",
    "            continue\n",
    "\n",
    "        if not pathname.endswith('.txt'):\n",
    "            continue\n",
    "\n",
    "        print pathname\n",
    "        d = parse(pathname)\n",
    "        d['PMID_KEY'] = f2id[item]\n",
    "        uniqueKeys.update(d.keys())\n",
    "        docList.append(d)\n",
    "        print len(docList)\n",
    "\n",
    "    df = pd.DataFrame(columns=uniqueKeys)\n",
    "    for d in docList:\n",
    "        df=df.append(d, ignore_index=True)\n",
    "\n",
    "    df = df.fillna('') #or \"\"\n",
    "    return df"
   ]
  },
  {
   "cell_type": "code",
   "execution_count": 8,
   "metadata": {
    "collapsed": false
   },
   "outputs": [
    {
     "name": "stdout",
     "output_type": "stream",
     "text": [
      "/Users/haynes/Desktop/independent study/sample_run/fulltext/Am_J_Physiol_Heart_Circ_Physiol_2012_Mar_15_302(6)_H1261-H1273.txt\n",
      "1\n",
      "/Users/haynes/Desktop/independent study/sample_run/fulltext/Arch_Med_Sci_2014_Aug_29_10(4)_837-845.txt\n",
      "2\n",
      "/Users/haynes/Desktop/independent study/sample_run/fulltext/Arthritis_Res_Ther_2010_Feb_11_12(1)_R22.txt\n",
      "3\n",
      "/Users/haynes/Desktop/independent study/sample_run/fulltext/Biochem_Biophys_Res_Commun_2007_Sep_21_361(2-2)_468-473.txt\n",
      "4\n",
      "/Users/haynes/Desktop/independent study/sample_run/fulltext/Biomed_Res_Int_2013_Sep_16_2013_580135.txt\n",
      "5\n",
      "/Users/haynes/Desktop/independent study/sample_run/fulltext/Biomed_Res_Int_2014_Jul_17_2014_107526.txt\n",
      "6\n",
      "/Users/haynes/Desktop/independent study/sample_run/fulltext/BMC_Biochem_2011_Apr_15_12_15.txt\n",
      "7\n",
      "/Users/haynes/Desktop/independent study/sample_run/fulltext/Br_J_Cancer_2002_Mar_18_86(6)_858-863.txt\n",
      "8\n",
      "/Users/haynes/Desktop/independent study/sample_run/fulltext/Br_J_Cancer_2008_Nov_4_99(9)_1415-1425.txt\n",
      "9\n",
      "/Users/haynes/Desktop/independent study/sample_run/fulltext/Br_J_Cancer_2010_Jul_13_103(2)_196-200.txt\n",
      "10\n",
      "/Users/haynes/Desktop/independent study/sample_run/fulltext/Br_J_Cancer_2012_May_22_106(11)_1816-1825.txt\n",
      "11\n",
      "/Users/haynes/Desktop/independent study/sample_run/fulltext/Br_J_Ophthalmol_2014_Jul_11_98(7)_951-955.txt\n",
      "12\n",
      "/Users/haynes/Desktop/independent study/sample_run/fulltext/Cancer_2012_Mar_15_118(6)_1474-1485.txt\n",
      "13\n",
      "/Users/haynes/Desktop/independent study/sample_run/fulltext/Clin_Dev_Immunol_2010_Sep_14_2010_832454.txt\n",
      "14\n",
      "/Users/haynes/Desktop/independent study/sample_run/fulltext/Contemp_Oncol_(Pozn)_2014_Aug_30_18(4)_252-259.txt\n",
      "15\n"
     ]
    }
   ],
   "source": [
    "tmp_path = '/Users/haynes/Desktop/independent study/sample_run/fulltext/'\n",
    "tmp_fulltextid = '/Users/haynes/Desktop/independent study/sample_run/fulltext_id.txt'\n",
    "\n",
    "# invoking the function to fetch pmid key\n",
    "f2id=mkf2id(tmp_fulltextid)\n",
    "# invoking the function to create pandas dataframe\n",
    "df = mkdf(tmp_path, f2id)"
   ]
  },
  {
   "cell_type": "code",
   "execution_count": null,
   "metadata": {
    "collapsed": false
   },
   "outputs": [],
   "source": [
    "# path to the folder containing all the txt files\n",
    "path = \"/Users/haynes/Desktop/independent study/files containg VEGF/fulltext\"\n",
    "# path to the txt file fulltext_id.txt file that contains the mapping of pmid key and filenames\n",
    "path_fulltextid = \"/Users/haynes/Desktop/independent study/files containg VEGF/fulltext_id.txt\"\n",
    "\n",
    "\n",
    "# invoking the function to fetch pmid key\n",
    "f2id=mkf2id(path_fulltextid)\n",
    "# invoking the function to create pandas dataframe\n",
    "df = mkdf(path, f2id)"
   ]
  },
  {
   "cell_type": "code",
   "execution_count": 9,
   "metadata": {
    "collapsed": false
   },
   "outputs": [
    {
     "name": "stdout",
     "output_type": "stream",
     "text": [
      "(15, 85)\n"
     ]
    },
    {
     "data": {
      "text/html": [
       "<div>\n",
       "<table border=\"1\" class=\"dataframe\">\n",
       "  <thead>\n",
       "    <tr style=\"text-align: right;\">\n",
       "      <th></th>\n",
       "      <th></th>\n",
       "      <th>5_future_directions</th>\n",
       "      <th>expression_omnibus</th>\n",
       "      <th>laboratory_findings</th>\n",
       "      <th>set</th>\n",
       "      <th>cytotoxic_agents</th>\n",
       "      <th>construction_of_bsscfv</th>\n",
       "      <th>cell_lines</th>\n",
       "      <th>results</th>\n",
       "      <th>survival_</th>\n",
       "      <th>...</th>\n",
       "      <th>treatment</th>\n",
       "      <th>survival_analysis</th>\n",
       "      <th>rna_isolation</th>\n",
       "      <th>competing_interests</th>\n",
       "      <th>leiomyosarcoma</th>\n",
       "      <th>statistical_analysis</th>\n",
       "      <th>abbreviations</th>\n",
       "      <th>PMID_KEY</th>\n",
       "      <th>1_introduction</th>\n",
       "      <th>combination_chemotherapy_regimens</th>\n",
       "    </tr>\n",
       "  </thead>\n",
       "  <tbody>\n",
       "    <tr>\n",
       "      <th>0</th>\n",
       "      <td></td>\n",
       "      <td></td>\n",
       "      <td></td>\n",
       "      <td></td>\n",
       "      <td></td>\n",
       "      <td></td>\n",
       "      <td></td>\n",
       "      <td></td>\n",
       "      <td>CD1 mice are an outbred strain and are prolifi...</td>\n",
       "      <td></td>\n",
       "      <td>...</td>\n",
       "      <td></td>\n",
       "      <td></td>\n",
       "      <td></td>\n",
       "      <td></td>\n",
       "      <td></td>\n",
       "      <td>Three-factor ANOVA was used to assess variance...</td>\n",
       "      <td></td>\n",
       "      <td>22268107</td>\n",
       "      <td></td>\n",
       "      <td></td>\n",
       "    </tr>\n",
       "    <tr>\n",
       "      <th>1</th>\n",
       "      <td></td>\n",
       "      <td></td>\n",
       "      <td></td>\n",
       "      <td></td>\n",
       "      <td></td>\n",
       "      <td></td>\n",
       "      <td></td>\n",
       "      <td></td>\n",
       "      <td></td>\n",
       "      <td></td>\n",
       "      <td>...</td>\n",
       "      <td></td>\n",
       "      <td></td>\n",
       "      <td></td>\n",
       "      <td></td>\n",
       "      <td></td>\n",
       "      <td></td>\n",
       "      <td></td>\n",
       "      <td>25276172</td>\n",
       "      <td></td>\n",
       "      <td></td>\n",
       "    </tr>\n",
       "    <tr>\n",
       "      <th>2</th>\n",
       "      <td></td>\n",
       "      <td></td>\n",
       "      <td></td>\n",
       "      <td></td>\n",
       "      <td></td>\n",
       "      <td></td>\n",
       "      <td></td>\n",
       "      <td></td>\n",
       "      <td></td>\n",
       "      <td></td>\n",
       "      <td>...</td>\n",
       "      <td></td>\n",
       "      <td></td>\n",
       "      <td></td>\n",
       "      <td>The authors declare that they have no competin...</td>\n",
       "      <td></td>\n",
       "      <td></td>\n",
       "      <td>A2M: -2-macroglobulin; AC: articular cartilage...</td>\n",
       "      <td>20149220</td>\n",
       "      <td></td>\n",
       "      <td></td>\n",
       "    </tr>\n",
       "    <tr>\n",
       "      <th>3</th>\n",
       "      <td></td>\n",
       "      <td></td>\n",
       "      <td></td>\n",
       "      <td></td>\n",
       "      <td></td>\n",
       "      <td></td>\n",
       "      <td></td>\n",
       "      <td></td>\n",
       "      <td>Expression of facilitative glucose transporter...</td>\n",
       "      <td></td>\n",
       "      <td>...</td>\n",
       "      <td></td>\n",
       "      <td></td>\n",
       "      <td></td>\n",
       "      <td></td>\n",
       "      <td></td>\n",
       "      <td></td>\n",
       "      <td></td>\n",
       "      <td>17658463</td>\n",
       "      <td></td>\n",
       "      <td></td>\n",
       "    </tr>\n",
       "    <tr>\n",
       "      <th>4</th>\n",
       "      <td></td>\n",
       "      <td></td>\n",
       "      <td></td>\n",
       "      <td></td>\n",
       "      <td></td>\n",
       "      <td></td>\n",
       "      <td></td>\n",
       "      <td></td>\n",
       "      <td></td>\n",
       "      <td></td>\n",
       "      <td>...</td>\n",
       "      <td></td>\n",
       "      <td></td>\n",
       "      <td></td>\n",
       "      <td></td>\n",
       "      <td></td>\n",
       "      <td></td>\n",
       "      <td></td>\n",
       "      <td>24151609</td>\n",
       "      <td>Despite intensive investigations during the pa...</td>\n",
       "      <td></td>\n",
       "    </tr>\n",
       "  </tbody>\n",
       "</table>\n",
       "<p>5 rows × 85 columns</p>\n",
       "</div>"
      ],
      "text/plain": [
       "    5_future_directions expression_omnibus laboratory_findings set  \\\n",
       "0                                                                    \n",
       "1                                                                    \n",
       "2                                                                    \n",
       "3                                                                    \n",
       "4                                                                    \n",
       "\n",
       "  cytotoxic_agents construction_of_bsscfv cell_lines  \\\n",
       "0                                                      \n",
       "1                                                      \n",
       "2                                                      \n",
       "3                                                      \n",
       "4                                                      \n",
       "\n",
       "                                             results survival_  \\\n",
       "0  CD1 mice are an outbred strain and are prolifi...             \n",
       "1                                                                \n",
       "2                                                                \n",
       "3  Expression of facilitative glucose transporter...             \n",
       "4                                                                \n",
       "\n",
       "                 ...                treatment survival_analysis rna_isolation  \\\n",
       "0                ...                                                            \n",
       "1                ...                                                            \n",
       "2                ...                                                            \n",
       "3                ...                                                            \n",
       "4                ...                                                            \n",
       "\n",
       "                                 competing_interests leiomyosarcoma  \\\n",
       "0                                                                     \n",
       "1                                                                     \n",
       "2  The authors declare that they have no competin...                  \n",
       "3                                                                     \n",
       "4                                                                     \n",
       "\n",
       "                                statistical_analysis  \\\n",
       "0  Three-factor ANOVA was used to assess variance...   \n",
       "1                                                      \n",
       "2                                                      \n",
       "3                                                      \n",
       "4                                                      \n",
       "\n",
       "                                       abbreviations  PMID_KEY  \\\n",
       "0                                                     22268107   \n",
       "1                                                     25276172   \n",
       "2  A2M: -2-macroglobulin; AC: articular cartilage...  20149220   \n",
       "3                                                     17658463   \n",
       "4                                                     24151609   \n",
       "\n",
       "                                      1_introduction  \\\n",
       "0                                                      \n",
       "1                                                      \n",
       "2                                                      \n",
       "3                                                      \n",
       "4  Despite intensive investigations during the pa...   \n",
       "\n",
       "  combination_chemotherapy_regimens  \n",
       "0                                    \n",
       "1                                    \n",
       "2                                    \n",
       "3                                    \n",
       "4                                    \n",
       "\n",
       "[5 rows x 85 columns]"
      ]
     },
     "execution_count": 9,
     "metadata": {},
     "output_type": "execute_result"
    }
   ],
   "source": [
    "print df.shape\n",
    "df.head()"
   ]
  },
  {
   "cell_type": "code",
   "execution_count": 10,
   "metadata": {
    "collapsed": false
   },
   "outputs": [],
   "source": [
    "# Remove a column that has value only in one row and the value is new line alone\n",
    "for col in df.columns.tolist():\n",
    "    if df[df[col]==''].shape[0] == df.shape[0]:\n",
    "        print col\n",
    "        df.drop([col],inplace=True,axis=1)"
   ]
  },
  {
   "cell_type": "code",
   "execution_count": 11,
   "metadata": {
    "collapsed": false
   },
   "outputs": [
    {
     "data": {
      "text/plain": [
       "['',\n",
       " '5_future_directions',\n",
       " 'expression_omnibus',\n",
       " 'laboratory_findings',\n",
       " 'set',\n",
       " 'cytotoxic_agents',\n",
       " 'construction_of_bsscfv',\n",
       " 'cell_lines',\n",
       " 'results',\n",
       " 'survival_',\n",
       " 'authors_contributions',\n",
       " 'biodistribution',\n",
       " 'grants',\n",
       " 'silhouette034',\n",
       " 'human_samples',\n",
       " 'adverse_events',\n",
       " 'disclosures',\n",
       " 'from_all_patients',\n",
       " 'phytochemical_investigation',\n",
       " 'thyroid_volume',\n",
       " 'anatomic_outcomes',\n",
       " 'goitre_and_acromegaly',\n",
       " 'status_available',\n",
       " '2_il12',\n",
       " 'available_by_',\n",
       " 'conclusions',\n",
       " 'introduction',\n",
       " 'cdna_microarrays',\n",
       " 'discussion',\n",
       " '4_discussion',\n",
       " 'patients',\n",
       " '26_statistical_analysis',\n",
       " 'principal_component_analysis',\n",
       " 'side_effects',\n",
       " 'forwardagggcactctgggaacctat_and',\n",
       " 'in_vitro_selectivity',\n",
       " 'samples',\n",
       " '4_il23',\n",
       " 'tyrosine_kinase_inhibitors',\n",
       " 'author_contributions',\n",
       " 'material_and_methods',\n",
       " 'conclusion',\n",
       " 'identical',\n",
       " 'materials_and_methods',\n",
       " 'cell_cultures',\n",
       " 'angiosarcoma',\n",
       " 'clinical_outcomes',\n",
       " 'bovine_samples',\n",
       " 'in_vitro_efficacy',\n",
       " 'stereology',\n",
       " '3__il27',\n",
       " 'quantitative_realtime_pcr',\n",
       " 'reported',\n",
       " 'background',\n",
       " 'UNKNOWN_KEY',\n",
       " '5_conclusion',\n",
       " 'mice',\n",
       " 'hormone_levels',\n",
       " '3_results',\n",
       " 'vegfa',\n",
       " 'hplc_analysis',\n",
       " 'through_loocv',\n",
       " 'patient_characteristics',\n",
       " 'funding_support',\n",
       " 'patients_and_methods',\n",
       " 'fetoplacental_arterial_patterning',\n",
       " 'other_agents',\n",
       " 'synovial_sarcoma',\n",
       " 'laboratory_analyses',\n",
       " 'il8_release',\n",
       " 'singleagent_regimens',\n",
       " '24_elisa',\n",
       " 'pcr',\n",
       " 'reverse_transcription',\n",
       " 'visual_outcomes',\n",
       " 'treatment',\n",
       " 'survival_analysis',\n",
       " 'rna_isolation',\n",
       " 'competing_interests',\n",
       " 'leiomyosarcoma',\n",
       " 'statistical_analysis',\n",
       " 'abbreviations',\n",
       " 'PMID_KEY',\n",
       " '1_introduction',\n",
       " 'combination_chemotherapy_regimens']"
      ]
     },
     "execution_count": 11,
     "metadata": {},
     "output_type": "execute_result"
    }
   ],
   "source": [
    "df.columns.tolist()"
   ]
  },
  {
   "cell_type": "code",
   "execution_count": 12,
   "metadata": {
    "collapsed": false
   },
   "outputs": [],
   "source": [
    "df.rename(columns={'''''': 'unknown'}, inplace=True)"
   ]
  },
  {
   "cell_type": "code",
   "execution_count": 13,
   "metadata": {
    "collapsed": false
   },
   "outputs": [
    {
     "data": {
      "text/plain": [
       "(15, 85)"
      ]
     },
     "execution_count": 13,
     "metadata": {},
     "output_type": "execute_result"
    }
   ],
   "source": [
    "df.shape"
   ]
  },
  {
   "cell_type": "code",
   "execution_count": 14,
   "metadata": {
    "collapsed": false
   },
   "outputs": [],
   "source": [
    "# Creating a spark dataframe\n",
    "sdf = sqlContext.createDataFrame(df)\n",
    "\n",
    "# Register the DataFrame as a SQL temporary view\n",
    "sdf.registerTempTable(\"VEGF\")"
   ]
  },
  {
   "cell_type": "code",
   "execution_count": 15,
   "metadata": {
    "collapsed": false
   },
   "outputs": [],
   "source": [
    "# Count the no:of times the word VEGF occurs in different columns\n",
    "\n",
    "# creating a user defined lambda function that calculates the count of vegf\n",
    "count_vegf = lambda c : ((length(c)-length(regexp_replace(c,'VEGF','')))/4)\n",
    "#Getting a list of column names\n",
    "columns = df.columns.tolist()\n",
    "\n",
    "# Creating/ Initializing a new dataframe \n",
    "# New columns are cresaed to store the count of vegf. \n",
    "#The column names follows the naming convention count_vegf_'columnname'\n",
    "sdf_new = sdf.withColumn('count_VEGF_'+columns[0], count_vegf(sdf[columns[0]]))\n",
    "\n",
    "# looping through all the columsn except pmid_key and saving the count to new columns\n",
    "for c in columns[1:]:\n",
    "    if c not in ['PMID_KEY']:\n",
    "        sdf_new = sdf_new.withColumn('count_VEGF_'+c, count_vegf(sdf_new[c]))"
   ]
  },
  {
   "cell_type": "code",
   "execution_count": 16,
   "metadata": {
    "collapsed": false
   },
   "outputs": [
    {
     "name": "stdout",
     "output_type": "stream",
     "text": [
      "+--------+--------------------+-----------------------+\n",
      "|PMID_KEY|        introduction|count_VEGF_introduction|\n",
      "+--------+--------------------+-----------------------+\n",
      "|22268107|                    |                    0.0|\n",
      "|25276172|Acromegaly, a chr...|                    0.0|\n",
      "|20149220|Low back pain (LB...|                    1.0|\n",
      "|17658463|                    |                    0.0|\n",
      "|24151609|                    |                    0.0|\n",
      "|25136551|                    |                    0.0|\n",
      "|21496221|                    |                    0.0|\n",
      "|11953815|                    |                    0.0|\n",
      "|18841159|                    |                    0.0|\n",
      "|20571495|                    |                    0.0|\n",
      "|22568967|                    |                    0.0|\n",
      "|24518078|Neovascular age-r...|                    5.0|\n",
      "|21837668|Soft tissue sarco...|                    0.0|\n",
      "|20885915|                    |                    0.0|\n",
      "|25258583|Angiogenesis play...|                    0.0|\n",
      "+--------+--------------------+-----------------------+\n",
      "\n"
     ]
    }
   ],
   "source": [
    "sdf_new[['PMID_KEY','introduction','count_VEGF_introduction']].show(15)"
   ]
  },
  {
   "cell_type": "code",
   "execution_count": 17,
   "metadata": {
    "collapsed": false
   },
   "outputs": [
    {
     "name": "stdout",
     "output_type": "stream",
     "text": [
      "(15, 169)\n",
      "(15, 1)\n",
      "(15, 170)\n"
     ]
    }
   ],
   "source": [
    "# Finding the total count of vegf in one document i.e, finding the sum of all the 'count' columns\n",
    "\n",
    "sdf_new.registerTempTable(\"VEGF_NEW\")\n",
    "\n",
    "# Constructing the sql query\n",
    "query = 'select '\n",
    "columns = sdf_new.columns\n",
    "for i in range(len(columns)) :\n",
    "    last = i == (len(columns)-1)\n",
    "    if columns[i].startswith('count'):\n",
    "        query += columns[i] + (' ' if last else ' + ')\n",
    "query += 'as total_VEGF_count from VEGF_NEW'\n",
    "#print query\n",
    "\n",
    "# Invoking the query to find the total count of vegf\n",
    "results = spark.sql(query)\n",
    "\n",
    "# Converting to pandas dataframe\n",
    "sdf_new_df = sdf_new.toPandas()\n",
    "print sdf_new_df.shape\n",
    "r_pdf=results.toPandas()\n",
    "print r_pdf.shape\n",
    "\n",
    "# Concatenating the 2 pandas df to create a final pandas dataframe\n",
    "final_pdf = pd.concat([sdf_new_df,r_pdf],axis=1)\n",
    "print final_pdf.shape\n",
    "\n",
    "# Converting to spark dataframe\n",
    "final_sdf = sqlContext.createDataFrame(final_pdf)"
   ]
  },
  {
   "cell_type": "code",
   "execution_count": 18,
   "metadata": {
    "collapsed": false
   },
   "outputs": [
    {
     "data": {
      "text/plain": [
       "[Row(sum(total_VEGF_count)=82.0)]"
      ]
     },
     "execution_count": 18,
     "metadata": {},
     "output_type": "execute_result"
    }
   ],
   "source": [
    "final_sdf.registerTempTable(\"VEGF_NEW_1\")\n",
    "spark.sql(\"select sum(total_VEGF_count) from VEGF_NEW_1\").collect()"
   ]
  },
  {
   "cell_type": "code",
   "execution_count": 19,
   "metadata": {
    "collapsed": false
   },
   "outputs": [
    {
     "data": {
      "text/plain": [
       "[Row(PMID_KEY=u'22268107', total_VEGF_count=14.0),\n",
       " Row(PMID_KEY=u'25276172', total_VEGF_count=4.0),\n",
       " Row(PMID_KEY=u'20149220', total_VEGF_count=3.0),\n",
       " Row(PMID_KEY=u'17658463', total_VEGF_count=1.0),\n",
       " Row(PMID_KEY=u'24151609', total_VEGF_count=1.0),\n",
       " Row(PMID_KEY=u'25136551', total_VEGF_count=3.0),\n",
       " Row(PMID_KEY=u'21496221', total_VEGF_count=2.0),\n",
       " Row(PMID_KEY=u'11953815', total_VEGF_count=26.0),\n",
       " Row(PMID_KEY=u'18841159', total_VEGF_count=2.0),\n",
       " Row(PMID_KEY=u'20571495', total_VEGF_count=3.0),\n",
       " Row(PMID_KEY=u'22568967', total_VEGF_count=6.0),\n",
       " Row(PMID_KEY=u'24518078', total_VEGF_count=12.0),\n",
       " Row(PMID_KEY=u'21837668', total_VEGF_count=3.0),\n",
       " Row(PMID_KEY=u'20885915', total_VEGF_count=1.0),\n",
       " Row(PMID_KEY=u'25258583', total_VEGF_count=1.0)]"
      ]
     },
     "execution_count": 19,
     "metadata": {},
     "output_type": "execute_result"
    }
   ],
   "source": [
    "spark.sql(\"select PMID_KEY, total_VEGF_count from VEGF_NEW_1\").collect()"
   ]
  }
 ],
 "metadata": {
  "kernelspec": {
   "display_name": "Python 2",
   "language": "python",
   "name": "python2"
  },
  "language_info": {
   "codemirror_mode": {
    "name": "ipython",
    "version": 2
   },
   "file_extension": ".py",
   "mimetype": "text/x-python",
   "name": "python",
   "nbconvert_exporter": "python",
   "pygments_lexer": "ipython2",
   "version": "2.7.11"
  }
 },
 "nbformat": 4,
 "nbformat_minor": 0
}
