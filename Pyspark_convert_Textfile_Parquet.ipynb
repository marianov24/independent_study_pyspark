{
 "cells": [
  {
   "cell_type": "code",
   "execution_count": null,
   "metadata": {
    "collapsed": true
   },
   "outputs": [],
   "source": [
    "from pyspark.sql import *\n",
    "from pyspark import SparkConf, SparkContext, SQLContext"
   ]
  },
  {
   "cell_type": "code",
   "execution_count": null,
   "metadata": {
    "collapsed": false
   },
   "outputs": [],
   "source": [
    "path = \"/Users/haynes/Desktop/independent study/data/Cases_J_2009_Sep_11_2_8982.txt\"\n",
    "lines = sc.textFile(path)\n",
    "lines.collect()"
   ]
  },
  {
   "cell_type": "code",
   "execution_count": null,
   "metadata": {
    "collapsed": false
   },
   "outputs": [],
   "source": [
    "subsections = lines.filter(lambda line: len(line.split()) >0 and len(line.split()) <=3)"
   ]
  },
  {
   "cell_type": "code",
   "execution_count": null,
   "metadata": {
    "collapsed": false
   },
   "outputs": [],
   "source": [
    "subsections.collect()"
   ]
  },
  {
   "cell_type": "code",
   "execution_count": null,
   "metadata": {
    "collapsed": false
   },
   "outputs": [],
   "source": [
    "subsections_list = []\n",
    "for s in subsections.collect():\n",
    "    subsections_list.append(s)\n",
    "subsections_list"
   ]
  },
  {
   "cell_type": "code",
   "execution_count": null,
   "metadata": {
    "collapsed": false
   },
   "outputs": [],
   "source": [
    "import re\n",
    "v1 = 'ABC'\n",
    "v2 = 'XYZ'\n",
    "regex = re.compile('{}(.*){}'.format(re.escape(v1), re.escape(v2)))\n",
    "match = re.search(regex,'Blah blah ABC the string to be retrieved XYZ Blah Blah')\n",
    "print match.group(1)"
   ]
  },
  {
   "cell_type": "code",
   "execution_count": null,
   "metadata": {
    "collapsed": false
   },
   "outputs": [],
   "source": [
    "a = \"intro\"\n",
    "b = \"hello maria\"\n",
    "tup = (a,b)\n",
    "tup"
   ]
  },
  {
   "cell_type": "code",
   "execution_count": null,
   "metadata": {
    "collapsed": false
   },
   "outputs": [],
   "source": [
    "f = open(path, 'r')\n",
    "lines1 = f.readlines()"
   ]
  },
  {
   "cell_type": "code",
   "execution_count": null,
   "metadata": {
    "collapsed": false
   },
   "outputs": [],
   "source": [
    "final_list = []\n",
    "final_dict = {}\n",
    "\n",
    "for l in range(0,len(subsections_list)):\n",
    "    if l!= len(subsections_list) - 1:\n",
    "        w1 = subsections_list[l]\n",
    "        w2 = subsections_list[l + 1]\n",
    "        regex = re.compile('{}(.*){}'.format(re.escape(w1), re.escape(w2)))\n",
    "        match = re.search(regex,str(lines1))\n",
    "    \n",
    "    else:\n",
    "        w1 = subsections_list[l]\n",
    "        regex = re.compile('{}(.*)'.format(re.escape(w1)))\n",
    "        match = re.search(regex,str(lines1))\n",
    "        \n",
    "    txt = match.group(1)\n",
    "    tup= (w1,txt)\n",
    "    final_list.append(tup)\n",
    "    \n",
    "    final_dict[w1] = txt\n",
    "    \n",
    "final_dict.keys()"
   ]
  },
  {
   "cell_type": "code",
   "execution_count": null,
   "metadata": {
    "collapsed": false
   },
   "outputs": [],
   "source": [
    "col_names = [x[0] for x in final_list]\n",
    "\n",
    "rdd = sc.parallelize(final_list)\n",
    "sqlContext.createDataFrame(rdd).collect()\n",
    "df = sqlContext.createDataFrame(rdd)\n",
    "df.collect()"
   ]
  },
  {
   "cell_type": "code",
   "execution_count": null,
   "metadata": {
    "collapsed": false
   },
   "outputs": [],
   "source": [
    "df.write.parquet(\"sample1.parquet\") "
   ]
  },
  {
   "cell_type": "code",
   "execution_count": null,
   "metadata": {
    "collapsed": false
   },
   "outputs": [],
   "source": [
    "newDataDF = sqlContext.read.parquet(\"sample.parquet\")       \n",
    "newDataDF.show() "
   ]
  },
  {
   "cell_type": "code",
   "execution_count": null,
   "metadata": {
    "collapsed": false
   },
   "outputs": [],
   "source": [
    "final_list"
   ]
  },
  {
   "cell_type": "markdown",
   "metadata": {},
   "source": [
    "*** VERSION 2 ***"
   ]
  },
  {
   "cell_type": "code",
   "execution_count": 18,
   "metadata": {
    "collapsed": false
   },
   "outputs": [],
   "source": [
    "import os, sys, stat\n",
    "from stat import *\n",
    "import re\n",
    "import pandas as pd\n",
    "from pyspark.sql import *\n",
    "from pyspark import SparkConf, SparkContext, SQLContext\n",
    "import unicodedata\n",
    "from pyspark.sql.functions import *"
   ]
  },
  {
   "cell_type": "code",
   "execution_count": 2,
   "metadata": {
    "collapsed": true
   },
   "outputs": [],
   "source": [
    "def normalize(filename):\n",
    "    with open(filename, 'r') as f:\n",
    "        lines = f.readlines()\n",
    "        for i in range(len(lines)):\n",
    "            l = lines[i].decode('utf-8')\n",
    "            lines[i] = unicodedata.normalize(\"NFKD\", l).encode('ascii','ignore')\n",
    "    \n",
    "    return lines"
   ]
  },
  {
   "cell_type": "code",
   "execution_count": 3,
   "metadata": {
    "collapsed": true
   },
   "outputs": [],
   "source": [
    "def parse(path):\n",
    "    \n",
    "    lines = sc.textFile(path)\n",
    "    lines.collect()\n",
    "    \n",
    "    # finding the subsections and saving it in a list subsections_list in lower case\n",
    "    subsections = lines.filter(lambda line: len(line.split()) >0 and len(line.split()) <=3)\n",
    "    subsections.collect()\n",
    "    subsections_list = []\n",
    "    for s in subsections.collect():\n",
    "        subsections_list.append(s)\n",
    "       \n",
    "    # creating a dictionary subsection as the key and the text as the value\n",
    "    final_list = []\n",
    "    final_dict = {}\n",
    "    \n",
    "    import unicodedata\n",
    "\n",
    "    for i in range(len(subsections_list)):\n",
    "        subsections_list[i] = unicodedata.normalize(\"NFKD\", subsections_list[i]).encode('ascii','ignore')\n",
    "   \n",
    "    #f = open(path, 'r')\n",
    "    #lines1 = f.readlines()\n",
    "    \n",
    "    lines1 = normalize(path)\n",
    "    \n",
    "    for l in range(0,len(subsections_list)):\n",
    "        \n",
    "        # saving the text btween two subsections\n",
    "        if l!= len(subsections_list) - 1:\n",
    "            w1 = subsections_list[l]\n",
    "            w2 = subsections_list[l + 1]\n",
    "            regex = re.compile('{}(.*){}'.format(re.escape(w1), re.escape(w2)))\n",
    "            match = re.search(regex,str(lines1))\n",
    "        \n",
    "        # saving the last section\n",
    "        else:\n",
    "            w1 = subsections_list[l]\n",
    "            regex = re.compile('{}(.*)'.format(re.escape(w1)))\n",
    "            match = re.search(regex,str(lines1))\n",
    "        \n",
    "        txt = match.group(1)\n",
    "        tup= (w1,txt)\n",
    "        final_list.append(tup)\n",
    "        w1 = w1.replace(' ','_')\n",
    "        final_dict[w1.lower()] = txt\n",
    "        \n",
    "    return final_dict"
   ]
  },
  {
   "cell_type": "code",
   "execution_count": 4,
   "metadata": {
    "collapsed": true
   },
   "outputs": [],
   "source": [
    "def mkf2id(full_text_file):\n",
    "    f2id=dict()\n",
    "    with open(full_text_file, 'r') as f:\n",
    "        for l in f:\n",
    "            tokens = l.strip(' \\t\\n').split(' ')\n",
    "            filename = tokens[-1].replace('.tar.gz', '.txt')\n",
    "            uniq_id = tokens[0].strip(' \\t')\n",
    "            f2id[filename] = uniq_id\n",
    "    return f2id"
   ]
  },
  {
   "cell_type": "code",
   "execution_count": 5,
   "metadata": {
    "collapsed": true
   },
   "outputs": [],
   "source": [
    "def mkdf(path, f2id):\n",
    "    items = os.listdir(path)\n",
    "    uniqueKeys = set()\n",
    "    docList = []\n",
    "    \n",
    "    for item in items:\n",
    "        pathname = os.path.join(path, item)\n",
    "        mode = os.stat(pathname).st_mode\n",
    "        if not stat.S_ISREG(mode):\n",
    "            continue\n",
    "\n",
    "        if not pathname.endswith('.txt'):\n",
    "            continue\n",
    "\n",
    "        print pathname\n",
    "        d = parse(pathname)\n",
    "        d['PMID_KEY'] = f2id[item]\n",
    "        uniqueKeys.update(d.keys())\n",
    "        docList.append(d)\n",
    "        print len(docList)\n",
    "\n",
    "    df = pd.DataFrame(columns=uniqueKeys)\n",
    "    for d in docList:\n",
    "        df=df.append(d, ignore_index=True)\n",
    "\n",
    "    df = df.fillna('') #or \"\"\n",
    "    return df"
   ]
  },
  {
   "cell_type": "code",
   "execution_count": 7,
   "metadata": {
    "collapsed": false
   },
   "outputs": [
    {
     "name": "stdout",
     "output_type": "stream",
     "text": [
      "/Users/haynes/Desktop/independent study/files containg VEGF/fulltext/Am_J_Physiol_Heart_Circ_Physiol_2012_Mar_15_302(6)_H1261-H1273.txt\n",
      "1\n",
      "/Users/haynes/Desktop/independent study/files containg VEGF/fulltext/Arch_Med_Sci_2014_Aug_29_10(4)_837-845.txt\n",
      "2\n",
      "/Users/haynes/Desktop/independent study/files containg VEGF/fulltext/Arthritis_Res_Ther_2010_Feb_11_12(1)_R22.txt\n",
      "3\n",
      "/Users/haynes/Desktop/independent study/files containg VEGF/fulltext/Biochem_Biophys_Res_Commun_2007_Sep_21_361(2-2)_468-473.txt\n",
      "4\n",
      "/Users/haynes/Desktop/independent study/files containg VEGF/fulltext/Biomed_Res_Int_2013_Sep_16_2013_580135.txt\n",
      "5\n",
      "/Users/haynes/Desktop/independent study/files containg VEGF/fulltext/Biomed_Res_Int_2014_Jul_17_2014_107526.txt\n",
      "6\n",
      "/Users/haynes/Desktop/independent study/files containg VEGF/fulltext/BMC_Biochem_2011_Apr_15_12_15.txt\n",
      "7\n",
      "/Users/haynes/Desktop/independent study/files containg VEGF/fulltext/Br_J_Cancer_2002_Mar_18_86(6)_858-863.txt\n",
      "8\n",
      "/Users/haynes/Desktop/independent study/files containg VEGF/fulltext/Br_J_Cancer_2008_Nov_4_99(9)_1415-1425.txt\n",
      "9\n",
      "/Users/haynes/Desktop/independent study/files containg VEGF/fulltext/Br_J_Cancer_2010_Jul_13_103(2)_196-200.txt\n",
      "10\n",
      "/Users/haynes/Desktop/independent study/files containg VEGF/fulltext/Br_J_Cancer_2012_May_22_106(11)_1816-1825.txt\n",
      "11\n",
      "/Users/haynes/Desktop/independent study/files containg VEGF/fulltext/Br_J_Ophthalmol_2014_Jul_11_98(7)_951-955.txt\n",
      "12\n",
      "/Users/haynes/Desktop/independent study/files containg VEGF/fulltext/Cancer_2012_Mar_15_118(6)_1474-1485.txt\n",
      "13\n",
      "/Users/haynes/Desktop/independent study/files containg VEGF/fulltext/Clin_Dev_Immunol_2010_Sep_14_2010_832454.txt\n",
      "14\n",
      "/Users/haynes/Desktop/independent study/files containg VEGF/fulltext/Contemp_Oncol_(Pozn)_2014_Aug_30_18(4)_252-259.txt\n",
      "15\n",
      "/Users/haynes/Desktop/independent study/files containg VEGF/fulltext/EMBO_Mol_Med_2009_Apr_1(1)_66-78.txt\n",
      "16\n",
      "/Users/haynes/Desktop/independent study/files containg VEGF/fulltext/EMBO_Mol_Med_2015_Apr_19_7(4)_368-379.txt\n",
      "17\n",
      "/Users/haynes/Desktop/independent study/files containg VEGF/fulltext/Eur_J_Plast_Surg_2013_Sep_1_36(12)_777-782.txt\n",
      "18\n",
      "/Users/haynes/Desktop/independent study/files containg VEGF/fulltext/Exp_Ther_Med_2014_Dec_24_8(6)_1723-1726.txt\n",
      "19\n",
      "/Users/haynes/Desktop/independent study/files containg VEGF/fulltext/Front_Genet_2015_Mar_12_6_94.txt\n",
      "20\n",
      "/Users/haynes/Desktop/independent study/files containg VEGF/fulltext/Front_Oncol_2012_Apr_11_2_37.txt\n",
      "21\n",
      "/Users/haynes/Desktop/independent study/files containg VEGF/fulltext/Head_Neck_Oncol_2012_Jun_25_4_39.txt\n",
      "22\n",
      "/Users/haynes/Desktop/independent study/files containg VEGF/fulltext/Int_J_Chron_Obstruct_Pulmon_Dis_2007_Dec_2(4)_453-462.txt\n",
      "23\n",
      "/Users/haynes/Desktop/independent study/files containg VEGF/fulltext/Int_J_Med_Sci_2012_Jun_21_9(5)_334-338.txt\n",
      "24\n",
      "/Users/haynes/Desktop/independent study/files containg VEGF/fulltext/Int_J_Mol_Sci_2013_Apr_25_14(5)_8924-8947.txt\n",
      "25\n",
      "/Users/haynes/Desktop/independent study/files containg VEGF/fulltext/Int_J_Nephrol_Renovasc_Dis_2015_Apr_15_8_29-40.txt\n",
      "26\n",
      "/Users/haynes/Desktop/independent study/files containg VEGF/fulltext/Int_Urol_Nephrol_2010_Sep_28_42(3)_811-819.txt\n",
      "27\n",
      "/Users/haynes/Desktop/independent study/files containg VEGF/fulltext/J_Angiogenes_Res_2010_Feb_19_2_4.txt\n",
      "28\n",
      "/Users/haynes/Desktop/independent study/files containg VEGF/fulltext/J_Cell_Mol_Med_2015_Feb_19_19(2)_283-296.txt\n",
      "29\n",
      "/Users/haynes/Desktop/independent study/files containg VEGF/fulltext/J_Diabetes_Res_2014_Oct_13_2014_590541.txt\n",
      "30\n",
      "/Users/haynes/Desktop/independent study/files containg VEGF/fulltext/J_Funct_Biomater_2011_Aug_4_2(3)_119-154.txt\n",
      "31\n",
      "/Users/haynes/Desktop/independent study/files containg VEGF/fulltext/J_Hum_Reprod_Sci_2010_Jan-Apr_3(1)_49-51.txt\n",
      "32\n",
      "/Users/haynes/Desktop/independent study/files containg VEGF/fulltext/J_Neuroinflammation_2010_Dec_6_7_89.txt\n",
      "33\n",
      "/Users/haynes/Desktop/independent study/files containg VEGF/fulltext/J_Ovarian_Res_2014_Aug_10_7_82.txt\n",
      "34\n",
      "/Users/haynes/Desktop/independent study/files containg VEGF/fulltext/J_Thyroid_Res_2011_Jun_13_2011_431718.txt\n",
      "35\n",
      "/Users/haynes/Desktop/independent study/files containg VEGF/fulltext/JAKSTAT_2012_Apr_1_1(2)_125-130.txt\n",
      "36\n",
      "/Users/haynes/Desktop/independent study/files containg VEGF/fulltext/Med_Hypothesis_Discov_Innov_Ophthalmol_2013_Summer_2(2)_30-34.txt\n",
      "37\n",
      "/Users/haynes/Desktop/independent study/files containg VEGF/fulltext/Med_Sci_Monit_2014_Nov_23_20_2394-2403.txt\n",
      "38\n",
      "/Users/haynes/Desktop/independent study/files containg VEGF/fulltext/Microbes_Infect_2012_Mar_14(3)_238-246.txt\n",
      "39\n",
      "/Users/haynes/Desktop/independent study/files containg VEGF/fulltext/Neural_Regen_Res_2014_Jul_15_9(14)_1341-1346.txt\n",
      "40\n",
      "/Users/haynes/Desktop/independent study/files containg VEGF/fulltext/Nucleic_Acids_Res_2005_Jul_1_33(Web_Server_issue)_W783-W786.txt\n",
      "41\n",
      "/Users/haynes/Desktop/independent study/files containg VEGF/fulltext/Nucleic_Acids_Res_2008_Jan_4_36(Database_issue)_D372-D376.txt\n",
      "42\n",
      "/Users/haynes/Desktop/independent study/files containg VEGF/fulltext/Oncol_Lett_2014_Jan_29_7(1)_95-100.txt\n",
      "43\n",
      "/Users/haynes/Desktop/independent study/files containg VEGF/fulltext/Pancreat_Disord_Ther_2013_Apr_7_Suppl_4_003.txt\n",
      "44\n",
      "/Users/haynes/Desktop/independent study/files containg VEGF/fulltext/PLoS_One_2011_Jan_11_6(1)_e15361.txt\n",
      "45\n",
      "/Users/haynes/Desktop/independent study/files containg VEGF/fulltext/PLoS_One_2011_May_6_6(5)_e14811.txt\n",
      "46\n",
      "/Users/haynes/Desktop/independent study/files containg VEGF/fulltext/PLoS_One_2012_Feb_17_7(2)_e30590.txt\n",
      "47\n",
      "/Users/haynes/Desktop/independent study/files containg VEGF/fulltext/PLoS_One_2012_May_14_7(5)_e37159.txt\n",
      "48\n",
      "/Users/haynes/Desktop/independent study/files containg VEGF/fulltext/PLoS_One_2012_Nov_7_7(11)_e48849.txt\n",
      "49\n",
      "/Users/haynes/Desktop/independent study/files containg VEGF/fulltext/PLoS_One_2013_Apr_16_8(4)_e61799.txt\n",
      "50\n",
      "/Users/haynes/Desktop/independent study/files containg VEGF/fulltext/PLoS_One_2013_Feb_13_8(2)_e56069.txt\n",
      "51\n",
      "/Users/haynes/Desktop/independent study/files containg VEGF/fulltext/PLoS_One_2013_Feb_26_8(2)_e56382.txt\n",
      "52\n",
      "/Users/haynes/Desktop/independent study/files containg VEGF/fulltext/PLoS_One_2015_Mar_23_10(3)_e0120547.txt\n",
      "53\n",
      "/Users/haynes/Desktop/independent study/files containg VEGF/fulltext/Postepy_Dermatol_Alergol_2013_Feb_20_30(1)_46-49.txt\n",
      "54\n",
      "/Users/haynes/Desktop/independent study/files containg VEGF/fulltext/Redox_Biol_2014_Jun_2_2_702-714.txt\n",
      "55\n",
      "/Users/haynes/Desktop/independent study/files containg VEGF/fulltext/Rheumatology_(Oxford)_2011_Nov_25_50(11)_2061-2070.txt\n",
      "56\n",
      "/Users/haynes/Desktop/independent study/files containg VEGF/fulltext/Sci_Rep_2014_Nov_21_4_7144.txt\n",
      "57\n",
      "/Users/haynes/Desktop/independent study/files containg VEGF/fulltext/Theranostics_2013_Oct_12_3(11)_816-830.txt\n",
      "58\n",
      "/Users/haynes/Desktop/independent study/files containg VEGF/fulltext/Transl_Med_UniSa_2014_Apr_8_10_8-12.txt\n",
      "59\n",
      "/Users/haynes/Desktop/independent study/files containg VEGF/fulltext/Trials_2011_May_12_12_120.txt\n",
      "60\n",
      "/Users/haynes/Desktop/independent study/files containg VEGF/fulltext/Urol_Ann_2014_Jul-Sep_6(3)_224-230.txt\n",
      "61\n",
      "/Users/haynes/Desktop/independent study/files containg VEGF/fulltext/Virchows_Arch_2008_May_12_452(5)_525-534.txt\n",
      "62\n",
      "/Users/haynes/Desktop/independent study/files containg VEGF/fulltext/Viruses_2013_Jan_28_5(2)_439-469.txt\n",
      "63\n"
     ]
    }
   ],
   "source": [
    "#path = \"/Users/haynes/Desktop/independent study/data\"\n",
    "# Changing the path to include the 100 files containing vegf\n",
    "path = \"/Users/haynes/Desktop/independent study/files containg VEGF/fulltext\"\n",
    "path_fulltextid = \"/Users/haynes/Desktop/independent study/files containg VEGF/fulltext_id.txt\"\n",
    "f2id=mkf2id(path_fulltextid)\n",
    "df = mkdf(path, f2id)"
   ]
  },
  {
   "cell_type": "code",
   "execution_count": null,
   "metadata": {
    "collapsed": false
   },
   "outputs": [],
   "source": [
    "sdf = sqlContext.createDataFrame(df)\n",
    "#sdf.collect()"
   ]
  },
  {
   "cell_type": "code",
   "execution_count": null,
   "metadata": {
    "collapsed": false
   },
   "outputs": [],
   "source": [
    "sdf.write.parquet(\"sampleversion3.parquet\") "
   ]
  },
  {
   "cell_type": "code",
   "execution_count": null,
   "metadata": {
    "collapsed": false
   },
   "outputs": [],
   "source": [
    "newDataDF = sqlContext.read.parquet(\"sampleversion3.parquet\")       \n",
    "newDataDF.show() "
   ]
  },
  {
   "cell_type": "code",
   "execution_count": 8,
   "metadata": {
    "collapsed": false
   },
   "outputs": [
    {
     "data": {
      "text/plain": [
       "(63, 285)"
      ]
     },
     "execution_count": 8,
     "metadata": {},
     "output_type": "execute_result"
    }
   ],
   "source": [
    "df.shape"
   ]
  },
  {
   "cell_type": "code",
   "execution_count": 9,
   "metadata": {
    "collapsed": false
   },
   "outputs": [],
   "source": [
    "# Remove a column that has value only in one row and the value is new line alone\n",
    "for col in df.columns.tolist():\n",
    "    if (df[df[col]!=''].shape[0] == 1):\n",
    "        if(df[df[col]!= ''][col] == '\\n', '\\n', ' '):\n",
    "            df.drop([col],inplace=True,axis=1)"
   ]
  },
  {
   "cell_type": "code",
   "execution_count": 10,
   "metadata": {
    "collapsed": false
   },
   "outputs": [
    {
     "data": {
      "text/plain": [
       "['cell_lines',\n",
       " 'results',\n",
       " 'conclusions',\n",
       " 'rna_isolation',\n",
       " 'treatment',\n",
       " 'author_contributions',\n",
       " 'materials_and_methods',\n",
       " 'patient_characteristics',\n",
       " 'discussion_and_conclusions',\n",
       " 'background',\n",
       " 'animals',\n",
       " '1._introduction',\n",
       " 'immunohistochemistry_(ihc)',\n",
       " 'summary',\n",
       " 'methods',\n",
       " 'competing_interests',\n",
       " 'patients_and_methods',\n",
       " 'histology',\n",
       " 'material_and_methods',\n",
       " 'immunohistochemistry',\n",
       " 'supplementary_data',\n",
       " 'case_report',\n",
       " 'statistical_analysis',\n",
       " 'PMID_KEY',\n",
       " 'supporting_information',\n",
       " 'cell_culture',\n",
       " 'adverse_events',\n",
       " 'introduction',\n",
       " 'abbreviations',\n",
       " '.',\n",
       " 'quantitative_real-time_pcr',\n",
       " \"authors'_contributions\",\n",
       " 'future_directions',\n",
       " 'discussion',\n",
       " 'conclusion',\n",
       " 'cell_cultures']"
      ]
     },
     "execution_count": 10,
     "metadata": {},
     "output_type": "execute_result"
    }
   ],
   "source": [
    "df.columns.tolist()"
   ]
  },
  {
   "cell_type": "code",
   "execution_count": 11,
   "metadata": {
    "collapsed": true
   },
   "outputs": [],
   "source": [
    "# merging columns \n",
    "# conclusion and conclusions\n",
    "df['conclusion'] = df[['conclusion', 'conclusions']].apply(lambda x: ''.join(x), axis=1)\n",
    "df.drop(['conclusions'],inplace=True,axis=1)\n",
    "\n",
    "df['immunohistochemistry'] = df[['immunohistochemistry', 'immunohistochemistry_(ihc)']].apply(lambda x: ''.join(x), axis=1)\n",
    "df.drop(['immunohistochemistry_(ihc)'],inplace=True,axis=1)\n",
    "\n",
    "df['introduction'] = df[['introduction', '1._introduction']].apply(lambda x: ''.join(x), axis=1)\n",
    "df.drop(['1._introduction'],inplace=True,axis=1)\n",
    "\n",
    "df['author_contributions'] = df[['author_contributions', \"authors'_contributions\"]].apply(lambda x: ''.join(x), axis=1)\n",
    "df.drop([\"authors'_contributions\"],inplace=True,axis=1)\n",
    "\n",
    "df['cell_culture'] = df[['cell_culture', 'cell_cultures']].apply(lambda x: ''.join(x), axis=1)\n",
    "df.drop(['cell_cultures'],inplace=True,axis=1)\n",
    "\n",
    "df['materials_and_methods'] = df[['materials_and_methods', \"material_and_methods\"]].apply(lambda x: ''.join(x), axis=1)\n",
    "df.drop([\"material_and_methods\"],inplace=True,axis=1)"
   ]
  },
  {
   "cell_type": "code",
   "execution_count": 12,
   "metadata": {
    "collapsed": false
   },
   "outputs": [
    {
     "data": {
      "text/plain": [
       "(63, 30)"
      ]
     },
     "execution_count": 12,
     "metadata": {},
     "output_type": "execute_result"
    }
   ],
   "source": [
    "df.shape"
   ]
  },
  {
   "cell_type": "code",
   "execution_count": 15,
   "metadata": {
    "collapsed": true
   },
   "outputs": [],
   "source": [
    "sdf = sqlContext.createDataFrame(df)"
   ]
  },
  {
   "cell_type": "code",
   "execution_count": 16,
   "metadata": {
    "collapsed": true
   },
   "outputs": [],
   "source": [
    "sdf.registerTempTable(\"VEGF\")"
   ]
  },
  {
   "cell_type": "code",
   "execution_count": null,
   "metadata": {
    "collapsed": false
   },
   "outputs": [],
   "source": [
    "# Register the DataFrame as a SQL temporary view\n",
    "sdf.createOrReplaceTempView(\"vegf\")\n",
    "\n",
    "sqlDF = spark.sql(\"SELECT * FROM vegf\")\n",
    "sqlDF.show()"
   ]
  },
  {
   "cell_type": "code",
   "execution_count": 20,
   "metadata": {
    "collapsed": false
   },
   "outputs": [
    {
     "name": "stdout",
     "output_type": "stream",
     "text": [
      "+---------------------------+\n",
      "|count(immunohistochemistry)|\n",
      "+---------------------------+\n",
      "|                          3|\n",
      "+---------------------------+\n",
      "\n",
      "+--------------------+---------------------+\n",
      "|          conclusion|count_VEGF_conclusion|\n",
      "+--------------------+---------------------+\n",
      "|\\n', '\\n', 'There...|                  1.0|\n",
      "|\\n', '\\n', 'COPD ...|                  7.0|\n",
      "|\\n', '\\n', 'Neuro...|                  3.0|\n",
      "|\\n', '\\n', 'The a...|                  1.0|\n",
      "+--------------------+---------------------+\n",
      "\n",
      "+----------------------------------------+\n",
      "|(count_VEGF_conclusion + count_VEGF_ihc)|\n",
      "+----------------------------------------+\n",
      "|                                     0.0|\n",
      "|                                     0.0|\n",
      "|                                     0.0|\n",
      "|                                     0.0|\n",
      "|                                     0.0|\n",
      "|                                     0.0|\n",
      "|                                     0.0|\n",
      "|                                     0.0|\n",
      "|                                     0.0|\n",
      "|                                     0.0|\n",
      "|                                     0.0|\n",
      "|                                     0.0|\n",
      "|                                     0.0|\n",
      "|                                     0.0|\n",
      "|                                     0.0|\n",
      "|                                     0.0|\n",
      "|                                     0.0|\n",
      "|                                     0.0|\n",
      "|                                     0.0|\n",
      "|                                     0.0|\n",
      "|                                     0.0|\n",
      "|                                     1.0|\n",
      "|                                     7.0|\n",
      "|                                     0.0|\n",
      "|                                     0.0|\n",
      "|                                     0.0|\n",
      "|                                     0.0|\n",
      "|                                     0.0|\n",
      "|                                     0.0|\n",
      "|                                     0.0|\n",
      "|                                     0.0|\n",
      "|                                     0.0|\n",
      "|                                     0.0|\n",
      "|                                     3.0|\n",
      "|                                     0.0|\n",
      "|                                     0.0|\n",
      "|                                     0.0|\n",
      "|                                     1.0|\n",
      "|                                     0.0|\n",
      "|                                     0.0|\n",
      "|                                     0.0|\n",
      "|                                     0.0|\n",
      "|                                     0.0|\n",
      "|                                     0.0|\n",
      "|                                     0.0|\n",
      "|                                     0.0|\n",
      "|                                     0.0|\n",
      "|                                     0.0|\n",
      "|                                     0.0|\n",
      "|                                     0.0|\n",
      "|                                     0.0|\n",
      "|                                     0.0|\n",
      "|                                     0.0|\n",
      "|                                     0.0|\n",
      "|                                     0.0|\n",
      "|                                     0.0|\n",
      "|                                     2.0|\n",
      "|                                     0.0|\n",
      "|                                     0.0|\n",
      "|                                     0.0|\n",
      "|                                     1.0|\n",
      "|                                     1.0|\n",
      "|                                     0.0|\n",
      "+----------------------------------------+\n",
      "\n"
     ]
    }
   ],
   "source": [
    "contains_vegf = spark.sql(\"SELECT count(immunohistochemistry) FROM VEGF where immunohistochemistry like '%VEGF%'\")\n",
    "contains_vegf.show()\n",
    "\n",
    "#rows_vegf = spark.sql(\"SELECT (ROUND(length(conclusion))-ROUND(length(regexp_replace(conclusion,'VEGF',''))))/4 AS count_VEGF_conclusion FROM VEGF  where conclusion like '%VEGF%'\")\n",
    "#rows_vegf.show()\n",
    "\n",
    "conclusion_vegf = spark.sql(\"SELECT conclusion, (ROUND(length(conclusion))-ROUND(length(regexp_replace(conclusion,'VEGF',''))))/4 AS count_VEGF_conclusion FROM VEGF  where conclusion like '%VEGF%'\")\n",
    "conclusion_vegf.show()\n",
    "\n",
    "\n",
    "# converting the count into a new column\n",
    "\n",
    "sdf_new = sdf.withColumn(\"count_VEGF_conclusion\",(length('conclusion')-length(regexp_replace('conclusion','VEGF','')))/4)\n",
    "#sdf_new[['conclusion','count_VEGF_conclusion']].show(50)\n",
    "\n",
    "sdf_new = sdf_new.withColumn(\"count_VEGF_ihc\",(length('immunohistochemistry')-length(regexp_replace('immunohistochemistry','VEGF','')))/4)\n",
    "#sdf_new[['immunohistochemistry','count_VEGF_ihc']].show(63)\n",
    "\n",
    "# adding the count colums\n",
    "#newdf = sdf_new.withColumn('total', sum(sdf_new[col] for col in [\"count_VEGF_conclusion\",\"count_VEGF_ihc\"]))\n",
    "sdf_new.registerTempTable(\"VEGF_NEW\")\n",
    "spark.sql(\"select count_VEGF_conclusion + count_VEGF_ihc from VEGF_NEW\").show(63)"
   ]
  },
  {
   "cell_type": "code",
   "execution_count": null,
   "metadata": {
    "collapsed": false
   },
   "outputs": [],
   "source": [
    "from pyspark.sql.functions import *\n",
    "#sdf.select(expr(\"length(introduction)\")).collect()\n",
    "\n",
    "concl_vegf = spark.sql(\"SELECT (ROUND(length(conclusion))-ROUND(length(regexp_replace(conclusion,'VEGF',''))))/4 AS count_VEGF_conclusion FROM VEGF\")\n",
    "\n",
    "# The results of SQL queries are Dataframe objects.\n",
    "# rdd returns the content as an :class:`pyspark.RDD` of :class:`Row`.\n",
    "count = concl_vegf.rdd.map(lambda p: p.count_VEGF_conclusion).collect()\n",
    "conclusion_vegf_count_list = []\n",
    "for c in count:\n",
    "    conclusion_vegf_count_list.append(c)\n",
    "\n",
    "a = Column(conclusion_vegf_count_list) "
   ]
  },
  {
   "cell_type": "code",
   "execution_count": null,
   "metadata": {
    "collapsed": false
   },
   "outputs": [],
   "source": [
    "spark.sql(\"select count(*) from VEGF where immunohistochemistry like '%VEGF%' or conclusion like '%VEGF%' or discussion like '%VEGF%'\").show()"
   ]
  },
  {
   "cell_type": "code",
   "execution_count": 14,
   "metadata": {
    "collapsed": false
   },
   "outputs": [
    {
     "data": {
      "text/html": [
       "<div>\n",
       "<table border=\"1\" class=\"dataframe\">\n",
       "  <thead>\n",
       "    <tr style=\"text-align: right;\">\n",
       "      <th></th>\n",
       "      <th>introduction</th>\n",
       "      <th>PMID_KEY</th>\n",
       "    </tr>\n",
       "  </thead>\n",
       "  <tbody>\n",
       "    <tr>\n",
       "      <th>0</th>\n",
       "      <td></td>\n",
       "      <td>22268107</td>\n",
       "    </tr>\n",
       "    <tr>\n",
       "      <th>1</th>\n",
       "      <td>\\n', '\\n', 'Acromegaly, a chronic disease caus...</td>\n",
       "      <td>25276172</td>\n",
       "    </tr>\n",
       "    <tr>\n",
       "      <th>2</th>\n",
       "      <td>\\n', '\\n', 'Low back pain (LBP) is the leading...</td>\n",
       "      <td>20149220</td>\n",
       "    </tr>\n",
       "    <tr>\n",
       "      <th>3</th>\n",
       "      <td></td>\n",
       "      <td>17658463</td>\n",
       "    </tr>\n",
       "    <tr>\n",
       "      <th>4</th>\n",
       "      <td>\\n', '\\n', 'Despite intensive investigations d...</td>\n",
       "      <td>24151609</td>\n",
       "    </tr>\n",
       "    <tr>\n",
       "      <th>5</th>\n",
       "      <td>\\n', '\\n', 'Meningiomas are the second most co...</td>\n",
       "      <td>25136551</td>\n",
       "    </tr>\n",
       "    <tr>\n",
       "      <th>6</th>\n",
       "      <td></td>\n",
       "      <td>21496221</td>\n",
       "    </tr>\n",
       "    <tr>\n",
       "      <th>7</th>\n",
       "      <td></td>\n",
       "      <td>11953815</td>\n",
       "    </tr>\n",
       "    <tr>\n",
       "      <th>8</th>\n",
       "      <td></td>\n",
       "      <td>18841159</td>\n",
       "    </tr>\n",
       "    <tr>\n",
       "      <th>9</th>\n",
       "      <td></td>\n",
       "      <td>20571495</td>\n",
       "    </tr>\n",
       "    <tr>\n",
       "      <th>10</th>\n",
       "      <td></td>\n",
       "      <td>22568967</td>\n",
       "    </tr>\n",
       "    <tr>\n",
       "      <th>11</th>\n",
       "      <td>\\n', '\\n', 'Neovascular age-related macular de...</td>\n",
       "      <td>24518078</td>\n",
       "    </tr>\n",
       "    <tr>\n",
       "      <th>12</th>\n",
       "      <td>\\n', '\\n', 'Soft tissue sarcomas (STS) are a h...</td>\n",
       "      <td>21837668</td>\n",
       "    </tr>\n",
       "    <tr>\n",
       "      <th>13</th>\n",
       "      <td>\\n', '\\n', '1.1. Cytokine-Based Cancer Immunot...</td>\n",
       "      <td>20885915</td>\n",
       "    </tr>\n",
       "    <tr>\n",
       "      <th>14</th>\n",
       "      <td>\\n', '\\n', 'Angiogenesis plays a significant r...</td>\n",
       "      <td>25258583</td>\n",
       "    </tr>\n",
       "    <tr>\n",
       "      <th>15</th>\n",
       "      <td>\\n', '\\n', 'Tumour growth invariably outstrips...</td>\n",
       "      <td>20049704</td>\n",
       "    </tr>\n",
       "    <tr>\n",
       "      <th>16</th>\n",
       "      <td>\\n', '\\n', 'The original version of the Hallma...</td>\n",
       "      <td>25700172</td>\n",
       "    </tr>\n",
       "    <tr>\n",
       "      <th>17</th>\n",
       "      <td>\\n', '\\n', 'Over the past decades, the demand ...</td>\n",
       "      <td>24273385</td>\n",
       "    </tr>\n",
       "    <tr>\n",
       "      <th>18</th>\n",
       "      <td>\\n', '\\n', 'Tumor vessels lay the foundation f...</td>\n",
       "      <td>25371722</td>\n",
       "    </tr>\n",
       "    <tr>\n",
       "      <th>19</th>\n",
       "      <td></td>\n",
       "      <td>25815006</td>\n",
       "    </tr>\n",
       "    <tr>\n",
       "      <th>20</th>\n",
       "      <td>\\n', '\\n', 'Immune suppression by 2,3,7,8-tetr...</td>\n",
       "      <td>22655272</td>\n",
       "    </tr>\n",
       "    <tr>\n",
       "      <th>21</th>\n",
       "      <td>\\n', '\\n', 'Thyroid cancer is uncommon, accoun...</td>\n",
       "      <td>22730910</td>\n",
       "    </tr>\n",
       "    <tr>\n",
       "      <th>22</th>\n",
       "      <td></td>\n",
       "      <td>18268919</td>\n",
       "    </tr>\n",
       "    <tr>\n",
       "      <th>23</th>\n",
       "      <td>\\n', '\\n', 'Colon cancer is one of the most co...</td>\n",
       "      <td>22745574</td>\n",
       "    </tr>\n",
       "    <tr>\n",
       "      <th>24</th>\n",
       "      <td>\\n', '\\n', 'Melatonin is a hormone produced in...</td>\n",
       "      <td>23698756</td>\n",
       "    </tr>\n",
       "    <tr>\n",
       "      <th>25</th>\n",
       "      <td>\\n', '\\n', 'Worldwide, more than 347 million p...</td>\n",
       "      <td>25926752</td>\n",
       "    </tr>\n",
       "    <tr>\n",
       "      <th>26</th>\n",
       "      <td>\\n', '\\n', 'Tubulointerstitial fibrosis, the l...</td>\n",
       "      <td>19946746</td>\n",
       "    </tr>\n",
       "    <tr>\n",
       "      <th>27</th>\n",
       "      <td></td>\n",
       "      <td>20298530</td>\n",
       "    </tr>\n",
       "    <tr>\n",
       "      <th>28</th>\n",
       "      <td>\\n', '\\n', 'Cell populations that assist haema...</td>\n",
       "      <td>25598217</td>\n",
       "    </tr>\n",
       "    <tr>\n",
       "      <th>29</th>\n",
       "      <td>\\n', '\\n', 'Diabetic nephropathy (DN) is the s...</td>\n",
       "      <td>25371905</td>\n",
       "    </tr>\n",
       "    <tr>\n",
       "      <th>...</th>\n",
       "      <td>...</td>\n",
       "      <td>...</td>\n",
       "    </tr>\n",
       "    <tr>\n",
       "      <th>33</th>\n",
       "      <td>\\n', '\\n', 'The ovary is one of the few adult ...</td>\n",
       "      <td>25296882</td>\n",
       "    </tr>\n",
       "    <tr>\n",
       "      <th>34</th>\n",
       "      <td>\\n', '\\n', 'Thyroid gland homeostasis is maint...</td>\n",
       "      <td>21760980</td>\n",
       "    </tr>\n",
       "    <tr>\n",
       "      <th>35</th>\n",
       "      <td>\\n', '\\n', 'JAK-STAT signaling pathway plays i...</td>\n",
       "      <td>24058761</td>\n",
       "    </tr>\n",
       "    <tr>\n",
       "      <th>36</th>\n",
       "      <td>\\n', '\\n', 'Eales disease (ED) is a vasoprolif...</td>\n",
       "      <td>24600639</td>\n",
       "    </tr>\n",
       "    <tr>\n",
       "      <th>37</th>\n",
       "      <td></td>\n",
       "      <td>25417209</td>\n",
       "    </tr>\n",
       "    <tr>\n",
       "      <th>38</th>\n",
       "      <td></td>\n",
       "      <td>22094132</td>\n",
       "    </tr>\n",
       "    <tr>\n",
       "      <th>39</th>\n",
       "      <td>\\n', '\\n', 'Injuries to peripheral nerves are ...</td>\n",
       "      <td>25221589</td>\n",
       "    </tr>\n",
       "    <tr>\n",
       "      <th>40</th>\n",
       "      <td></td>\n",
       "      <td>15980585</td>\n",
       "    </tr>\n",
       "    <tr>\n",
       "      <th>41</th>\n",
       "      <td>\\n', '\\n', 'The double helix structure is a co...</td>\n",
       "      <td>17916572</td>\n",
       "    </tr>\n",
       "    <tr>\n",
       "      <th>42</th>\n",
       "      <td>\\n', '\\n', 'Malignant gliomas are the most com...</td>\n",
       "      <td>24348828</td>\n",
       "    </tr>\n",
       "    <tr>\n",
       "      <th>43</th>\n",
       "      <td>\\n', '\\n', 'The peptide growth factor gastrin ...</td>\n",
       "      <td>25346875</td>\n",
       "    </tr>\n",
       "    <tr>\n",
       "      <th>44</th>\n",
       "      <td>\\n', '\\n', 'Spaceflight alters both cellular a...</td>\n",
       "      <td>21264297</td>\n",
       "    </tr>\n",
       "    <tr>\n",
       "      <th>45</th>\n",
       "      <td>\\n', '\\n', 'The U.K. diabetic population is pr...</td>\n",
       "      <td>21573106</td>\n",
       "    </tr>\n",
       "    <tr>\n",
       "      <th>46</th>\n",
       "      <td>\\n', '\\n', 'Esophageal cancer is the eighth mo...</td>\n",
       "      <td>22363450</td>\n",
       "    </tr>\n",
       "    <tr>\n",
       "      <th>47</th>\n",
       "      <td>\\n', '\\n', 'Hepatocellular carcinoma (HCC) is ...</td>\n",
       "      <td>22606345</td>\n",
       "    </tr>\n",
       "    <tr>\n",
       "      <th>48</th>\n",
       "      <td>\\n', '\\n', 'Skin melanoma is one of the most a...</td>\n",
       "      <td>23144997</td>\n",
       "    </tr>\n",
       "    <tr>\n",
       "      <th>49</th>\n",
       "      <td>\\n', '\\n', 'Wounds normally heal in an orderly...</td>\n",
       "      <td>23613940</td>\n",
       "    </tr>\n",
       "    <tr>\n",
       "      <th>50</th>\n",
       "      <td>\\n', '\\n', 'Hepatocellular carcinoma (HCC) is ...</td>\n",
       "      <td>23418512</td>\n",
       "    </tr>\n",
       "    <tr>\n",
       "      <th>51</th>\n",
       "      <td>\\n', '\\n', 'Neuroblastoma is a pediatric neuro...</td>\n",
       "      <td>23468863</td>\n",
       "    </tr>\n",
       "    <tr>\n",
       "      <th>52</th>\n",
       "      <td>\\n', '\\n', 'Hes and Hey genes are the mammalia...</td>\n",
       "      <td>25799559</td>\n",
       "    </tr>\n",
       "    <tr>\n",
       "      <th>53</th>\n",
       "      <td>\\n', '\\n', '\\n', 'Centella asiatica (L.) Urban...</td>\n",
       "      <td>24278045</td>\n",
       "    </tr>\n",
       "    <tr>\n",
       "      <th>54</th>\n",
       "      <td>\\n', '\\n', 'Acute coronary artery disease and ...</td>\n",
       "      <td>24944913</td>\n",
       "    </tr>\n",
       "    <tr>\n",
       "      <th>55</th>\n",
       "      <td>\\n', '\\n', 'GCA is a granulomatous arteritis c...</td>\n",
       "      <td>21873264</td>\n",
       "    </tr>\n",
       "    <tr>\n",
       "      <th>56</th>\n",
       "      <td></td>\n",
       "      <td>25413454</td>\n",
       "    </tr>\n",
       "    <tr>\n",
       "      <th>57</th>\n",
       "      <td>\\n', '\\n', 'Solid tumor cells require higher l...</td>\n",
       "      <td>24312152</td>\n",
       "    </tr>\n",
       "    <tr>\n",
       "      <th>58</th>\n",
       "      <td>\\n', '\\n', 'Breast cancer is the most common m...</td>\n",
       "      <td>25147760</td>\n",
       "    </tr>\n",
       "    <tr>\n",
       "      <th>59</th>\n",
       "      <td></td>\n",
       "      <td>21569411</td>\n",
       "    </tr>\n",
       "    <tr>\n",
       "      <th>60</th>\n",
       "      <td>\\n', '\\n', 'Widespread interest in the screeni...</td>\n",
       "      <td>25125895</td>\n",
       "    </tr>\n",
       "    <tr>\n",
       "      <th>61</th>\n",
       "      <td>\\n', '\\n', 'Gastric carcinoma is the second le...</td>\n",
       "      <td>18266006</td>\n",
       "    </tr>\n",
       "    <tr>\n",
       "      <th>62</th>\n",
       "      <td>\\n', '\\n', 'Hepatitis C virus (HCV) is a human...</td>\n",
       "      <td>23358390</td>\n",
       "    </tr>\n",
       "  </tbody>\n",
       "</table>\n",
       "<p>63 rows × 2 columns</p>\n",
       "</div>"
      ],
      "text/plain": [
       "                                         introduction  PMID_KEY\n",
       "0                                                      22268107\n",
       "1   \\n', '\\n', 'Acromegaly, a chronic disease caus...  25276172\n",
       "2   \\n', '\\n', 'Low back pain (LBP) is the leading...  20149220\n",
       "3                                                      17658463\n",
       "4   \\n', '\\n', 'Despite intensive investigations d...  24151609\n",
       "5   \\n', '\\n', 'Meningiomas are the second most co...  25136551\n",
       "6                                                      21496221\n",
       "7                                                      11953815\n",
       "8                                                      18841159\n",
       "9                                                      20571495\n",
       "10                                                     22568967\n",
       "11  \\n', '\\n', 'Neovascular age-related macular de...  24518078\n",
       "12  \\n', '\\n', 'Soft tissue sarcomas (STS) are a h...  21837668\n",
       "13  \\n', '\\n', '1.1. Cytokine-Based Cancer Immunot...  20885915\n",
       "14  \\n', '\\n', 'Angiogenesis plays a significant r...  25258583\n",
       "15  \\n', '\\n', 'Tumour growth invariably outstrips...  20049704\n",
       "16  \\n', '\\n', 'The original version of the Hallma...  25700172\n",
       "17  \\n', '\\n', 'Over the past decades, the demand ...  24273385\n",
       "18  \\n', '\\n', 'Tumor vessels lay the foundation f...  25371722\n",
       "19                                                     25815006\n",
       "20  \\n', '\\n', 'Immune suppression by 2,3,7,8-tetr...  22655272\n",
       "21  \\n', '\\n', 'Thyroid cancer is uncommon, accoun...  22730910\n",
       "22                                                     18268919\n",
       "23  \\n', '\\n', 'Colon cancer is one of the most co...  22745574\n",
       "24  \\n', '\\n', 'Melatonin is a hormone produced in...  23698756\n",
       "25  \\n', '\\n', 'Worldwide, more than 347 million p...  25926752\n",
       "26  \\n', '\\n', 'Tubulointerstitial fibrosis, the l...  19946746\n",
       "27                                                     20298530\n",
       "28  \\n', '\\n', 'Cell populations that assist haema...  25598217\n",
       "29  \\n', '\\n', 'Diabetic nephropathy (DN) is the s...  25371905\n",
       "..                                                ...       ...\n",
       "33  \\n', '\\n', 'The ovary is one of the few adult ...  25296882\n",
       "34  \\n', '\\n', 'Thyroid gland homeostasis is maint...  21760980\n",
       "35  \\n', '\\n', 'JAK-STAT signaling pathway plays i...  24058761\n",
       "36  \\n', '\\n', 'Eales disease (ED) is a vasoprolif...  24600639\n",
       "37                                                     25417209\n",
       "38                                                     22094132\n",
       "39  \\n', '\\n', 'Injuries to peripheral nerves are ...  25221589\n",
       "40                                                     15980585\n",
       "41  \\n', '\\n', 'The double helix structure is a co...  17916572\n",
       "42  \\n', '\\n', 'Malignant gliomas are the most com...  24348828\n",
       "43  \\n', '\\n', 'The peptide growth factor gastrin ...  25346875\n",
       "44  \\n', '\\n', 'Spaceflight alters both cellular a...  21264297\n",
       "45  \\n', '\\n', 'The U.K. diabetic population is pr...  21573106\n",
       "46  \\n', '\\n', 'Esophageal cancer is the eighth mo...  22363450\n",
       "47  \\n', '\\n', 'Hepatocellular carcinoma (HCC) is ...  22606345\n",
       "48  \\n', '\\n', 'Skin melanoma is one of the most a...  23144997\n",
       "49  \\n', '\\n', 'Wounds normally heal in an orderly...  23613940\n",
       "50  \\n', '\\n', 'Hepatocellular carcinoma (HCC) is ...  23418512\n",
       "51  \\n', '\\n', 'Neuroblastoma is a pediatric neuro...  23468863\n",
       "52  \\n', '\\n', 'Hes and Hey genes are the mammalia...  25799559\n",
       "53  \\n', '\\n', '\\n', 'Centella asiatica (L.) Urban...  24278045\n",
       "54  \\n', '\\n', 'Acute coronary artery disease and ...  24944913\n",
       "55  \\n', '\\n', 'GCA is a granulomatous arteritis c...  21873264\n",
       "56                                                     25413454\n",
       "57  \\n', '\\n', 'Solid tumor cells require higher l...  24312152\n",
       "58  \\n', '\\n', 'Breast cancer is the most common m...  25147760\n",
       "59                                                     21569411\n",
       "60  \\n', '\\n', 'Widespread interest in the screeni...  25125895\n",
       "61  \\n', '\\n', 'Gastric carcinoma is the second le...  18266006\n",
       "62  \\n', '\\n', 'Hepatitis C virus (HCV) is a human...  23358390\n",
       "\n",
       "[63 rows x 2 columns]"
      ]
     },
     "execution_count": 14,
     "metadata": {},
     "output_type": "execute_result"
    }
   ],
   "source": [
    "df[[\"introduction\",\"PMID_KEY\"]]"
   ]
  },
  {
   "cell_type": "code",
   "execution_count": null,
   "metadata": {
    "collapsed": true
   },
   "outputs": [],
   "source": []
  }
 ],
 "metadata": {
  "kernelspec": {
   "display_name": "Python 2",
   "language": "python",
   "name": "python2"
  },
  "language_info": {
   "codemirror_mode": {
    "name": "ipython",
    "version": 2
   },
   "file_extension": ".py",
   "mimetype": "text/x-python",
   "name": "python",
   "nbconvert_exporter": "python",
   "pygments_lexer": "ipython2",
   "version": "2.7.11"
  }
 },
 "nbformat": 4,
 "nbformat_minor": 0
}
